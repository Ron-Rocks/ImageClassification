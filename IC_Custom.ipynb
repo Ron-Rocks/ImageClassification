{
  "nbformat": 4,
  "nbformat_minor": 0,
  "metadata": {
    "colab": {
      "name": "IC Custom.ipynb",
      "provenance": [],
      "include_colab_link": true
    },
    "kernelspec": {
      "name": "python3",
      "display_name": "Python 3"
    }
  },
  "cells": [
    {
      "cell_type": "markdown",
      "metadata": {
        "id": "view-in-github",
        "colab_type": "text"
      },
      "source": [
        "<a href=\"https://colab.research.google.com/github/Ron-Rocks/ImageClassification/blob/master/IC_Custom.ipynb\" target=\"_parent\"><img src=\"https://colab.research.google.com/assets/colab-badge.svg\" alt=\"Open In Colab\"/></a>"
      ]
    },
    {
      "cell_type": "code",
      "metadata": {
        "id": "49-QhdJ6iuQA",
        "colab_type": "code",
        "colab": {}
      },
      "source": [
        "import tensorflow as tf\n",
        "\n",
        "from tensorflow.keras.models import Model\n",
        "from tensorflow.keras.preprocessing.image import ImageDataGenerator\n",
        "import os\n",
        "from tensorflow.keras.layers import Dense, Conv2D, Flatten, Dropout, MaxPooling2D,Input\n",
        "from tensorflow.keras.datasets import cifar10\n",
        "import numpy as np\n",
        "import matplotlib.pyplot as plt\n",
        "from tensorflow.keras.callbacks import TensorBoard\n",
        "from tensorflow.keras.utils import to_categorical"
      ],
      "execution_count": 0,
      "outputs": []
    },
    {
      "cell_type": "code",
      "metadata": {
        "id": "V7liVndci4vd",
        "colab_type": "code",
        "colab": {
          "base_uri": "https://localhost:8080/",
          "height": 490
        },
        "outputId": "fc2bb79a-cec4-4c3b-fe25-89faae9a2c9b"
      },
      "source": [
        "inputs = Input(shape = (32,32,3))\n",
        "x = Conv2D(16,3,activation=\"relu\",padding=\"same\")(inputs)\n",
        "x = Conv2D(32,3,activation=\"relu\",padding=\"same\")(x)\n",
        "x = MaxPooling2D(2)(x)\n",
        "x = Conv2D(64,3,activation=\"relu\",padding=\"same\")(x)\n",
        "x = Conv2D(64,3,activation=\"relu\",padding = \"same\")(x)\n",
        "x = Flatten()(x)\n",
        "x = Dense(128,activation = \"relu\")(x)\n",
        "outputs = Dense(10,activation = \"sigmoid\")(x)\n",
        "\n",
        "model = Model(inputs,outputs)\n",
        "\n",
        "model.summary()\n"
      ],
      "execution_count": 21,
      "outputs": [
        {
          "output_type": "stream",
          "text": [
            "Model: \"model_1\"\n",
            "_________________________________________________________________\n",
            "Layer (type)                 Output Shape              Param #   \n",
            "=================================================================\n",
            "input_4 (InputLayer)         [(None, 32, 32, 3)]       0         \n",
            "_________________________________________________________________\n",
            "conv2d_9 (Conv2D)            (None, 32, 32, 16)        448       \n",
            "_________________________________________________________________\n",
            "conv2d_10 (Conv2D)           (None, 32, 32, 32)        4640      \n",
            "_________________________________________________________________\n",
            "max_pooling2d_2 (MaxPooling2 (None, 16, 16, 32)        0         \n",
            "_________________________________________________________________\n",
            "conv2d_11 (Conv2D)           (None, 16, 16, 64)        18496     \n",
            "_________________________________________________________________\n",
            "conv2d_12 (Conv2D)           (None, 16, 16, 64)        36928     \n",
            "_________________________________________________________________\n",
            "flatten (Flatten)            (None, 16384)             0         \n",
            "_________________________________________________________________\n",
            "dense_4 (Dense)              (None, 128)               2097280   \n",
            "_________________________________________________________________\n",
            "dense_5 (Dense)              (None, 10)                1290      \n",
            "=================================================================\n",
            "Total params: 2,159,082\n",
            "Trainable params: 2,159,082\n",
            "Non-trainable params: 0\n",
            "_________________________________________________________________\n"
          ],
          "name": "stdout"
        }
      ]
    },
    {
      "cell_type": "code",
      "metadata": {
        "id": "3jxQ5C1wpcvs",
        "colab_type": "code",
        "colab": {}
      },
      "source": [
        "callback = TensorBoard(log_dir=\"logs\")"
      ],
      "execution_count": 0,
      "outputs": []
    },
    {
      "cell_type": "code",
      "metadata": {
        "id": "YQ14O94MkF2Q",
        "colab_type": "code",
        "colab": {}
      },
      "source": [
        "(xTrain,yTrain),(xTest,yTest) = cifar10.load_data()\n",
        "\n",
        "xTrain  = xTrain/255\n",
        "xTest = xTest/255\n",
        "\n",
        "yTrain = to_categorical(yTrain)\n",
        "yTest = to_categorical(yTest)\n",
        "\n",
        "\n",
        "model.compile(loss = \"categorical_crossentropy\",optimizer=\"adam\",metrics=[\"accuracy\"])\n",
        "model.fit(xTrain,yTrain,epochs=15,validation_data=(xTest,yTest),callbacks=[callback])\n",
        "model.save_weights(\"weightCustom.h5\")"
      ],
      "execution_count": 0,
      "outputs": []
    }
  ]
}